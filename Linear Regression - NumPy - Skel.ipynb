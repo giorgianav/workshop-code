{
  "nbformat": 4,
  "nbformat_minor": 0,
  "metadata": {
    "colab": {
      "name": "Linear Regression - NumPy - Skel.ipynb",
      "version": "0.3.2",
      "provenance": [],
      "include_colab_link": true
    },
    "kernelspec": {
      "display_name": "Python 3",
      "language": "python",
      "name": "python3"
    }
  },
  "cells": [
    {
      "cell_type": "markdown",
      "metadata": {
        "id": "view-in-github",
        "colab_type": "text"
      },
      "source": [
        "[View in Colaboratory](https://colab.research.google.com/github/giorgianav/workshop-code/blob/master/Linear%20Regression%20-%20NumPy%20-%20Skel.ipynb)"
      ]
    },
    {
      "metadata": {
        "id": "yL9wBkpnAl-r",
        "colab_type": "text"
      },
      "cell_type": "markdown",
      "source": [
        "# Linear Regression #\n",
        "\n",
        "Tudor Berariu (`tberariu@bitdefender.com`)"
      ]
    },
    {
      "metadata": {
        "id": "xv0JLtvDAl-u",
        "colab_type": "code",
        "colab": {}
      },
      "cell_type": "code",
      "source": [
        "import numpy as np  # For operations on tensors\n",
        "\n",
        "%matplotlib notebook\n",
        "import seaborn as sns\n",
        "sns.set()\n",
        "import matplotlib.pyplot as plt"
      ],
      "execution_count": 0,
      "outputs": []
    },
    {
      "metadata": {
        "id": "f3ipDlegAl-y",
        "colab_type": "text"
      },
      "cell_type": "markdown",
      "source": [
        "## 1. The problem to solve ##"
      ]
    },
    {
      "metadata": {
        "id": "DKrsObXQAl-z",
        "colab_type": "code",
        "colab": {}
      },
      "cell_type": "code",
      "source": [
        "def generate_examples(N:int = 9, noise:float = 0.2, dist_noise:float = 0.2):\n",
        "    X = np.linspace(0, 1.75 * np.pi, N)\n",
        "    X += np.random.randn(N) * dist_noise\n",
        "    T = np.sin(X) + np.random.randn(N) * noise\n",
        "    return X, T\n",
        "\n",
        "N_train = 9\n",
        "N_test = 50\n",
        "noise = 0.32\n",
        "\n",
        "X_train, T_train = generate_examples(N=N_train, noise=noise)\n",
        "X_test, T_test = generate_examples(N=N_test, noise=noise)\n",
        "X_real, T_real = generate_examples(100, .0, .0)\n",
        "\n",
        "plt.figure(); plt.axis('equal')\n",
        "plt.plot(X_real, T_real, sns.xkcd_rgb[\"green\"], label=\"Ideal function\")\n",
        "plt.scatter(X_train, T_train, s=30, label=\"Train examples\")\n",
        "#plt.scatter(X_test, T_test, s=10, label=\"Test examples\")\n",
        "plt.xlabel(\"x\")\n",
        "plt.legend(bbox_to_anchor=(1, 1), loc='upper right', ncol=1)\n",
        "plt.show()"
      ],
      "execution_count": 0,
      "outputs": []
    },
    {
      "metadata": {
        "id": "AgJhoZ2mAl-4",
        "colab_type": "text"
      },
      "cell_type": "markdown",
      "source": [
        "## 2. Extracting polynomial features\n",
        "$$\\phi_i(x) = x^i, \\quad 0 \\le i \\le M$$"
      ]
    },
    {
      "metadata": {
        "id": "-J0kEwQVAl-5",
        "colab_type": "code",
        "colab": {}
      },
      "cell_type": "code",
      "source": [
        "def extract_features(X: np.ndarray, M: int) -> np.ndarray:\n",
        "    # TODO <1> : given X of length N and integer M, compute Phi, a N x (M+1) array\n",
        "    raise NotImplementedError"
      ],
      "execution_count": 0,
      "outputs": []
    },
    {
      "metadata": {
        "id": "55zw7V29Al-8",
        "colab_type": "code",
        "colab": {}
      },
      "cell_type": "code",
      "source": [
        "extract_features(X_train, 1)"
      ],
      "execution_count": 0,
      "outputs": []
    },
    {
      "metadata": {
        "id": "0Iqme_j_Al-_",
        "colab_type": "text"
      },
      "cell_type": "markdown",
      "source": [
        "## 3. The cost function ##\n",
        "$$MSE = \\frac{1}{N}\\sum_{n=1}^{N} \\left(y_n - t_n\\right)^2$$"
      ]
    },
    {
      "metadata": {
        "id": "GUHHWHjBAl-_",
        "colab_type": "code",
        "colab": {}
      },
      "cell_type": "code",
      "source": [
        "def mean_squared_error(Y: np.ndarray, T: np.ndarray) -> float:\n",
        "    # TODO <2> : Given predictions Y and targets T, compute the MSE\n",
        "    raise NotImplementedError"
      ],
      "execution_count": 0,
      "outputs": []
    },
    {
      "metadata": {
        "id": "5JyTBotDAl_C",
        "colab_type": "text"
      },
      "cell_type": "markdown",
      "source": [
        "## 4. Closed form solution for linear models ##\n",
        "$$ y\\left(x, {\\bf w}\\right) = {\\bf \\phi}\\left(x\\right)^\\intercal {\\bf w}$$\n",
        "$${\\bf w}^* = \\left({\\bf \\Phi}^\\intercal {\\bf \\Phi}\\right)^{-1} {\\bf \\Phi}^\\intercal {\\bf T} = {\\bf \\Phi}^{\\dagger} {\\bf T}$$"
      ]
    },
    {
      "metadata": {
        "id": "Iqg-gAxOAl_D",
        "colab_type": "code",
        "colab": {}
      },
      "cell_type": "code",
      "source": [
        "def train_params(X, T, M):\n",
        "    # TODO <3> : Given train examples (X, T), and integer M compute w*\n",
        "    raise NotImplementedError"
      ],
      "execution_count": 0,
      "outputs": []
    },
    {
      "metadata": {
        "id": "lSymISbsAl_G",
        "colab_type": "code",
        "colab": {}
      },
      "cell_type": "code",
      "source": [
        "def predict(X, W, M):\n",
        "    # TODO <4> : Given inputs X, weights W, and integer M, compute predictions Y\n",
        "    raise NotImplementedError"
      ],
      "execution_count": 0,
      "outputs": []
    },
    {
      "metadata": {
        "id": "FvDskrERAl_V",
        "colab_type": "text"
      },
      "cell_type": "markdown",
      "source": [
        "## 5. Visualize the function learned by the model ##"
      ]
    },
    {
      "metadata": {
        "id": "cVoekjwAAl_X",
        "colab_type": "code",
        "colab": {}
      },
      "cell_type": "code",
      "source": [
        "M = 3\n",
        "\n",
        "# Train\n",
        "W = train_params(X_train, T_train, M)\n",
        "\n",
        "# Compute mean squared error\n",
        "Y_train = predict(X_train, W, M)\n",
        "Y_test = predict(X_test, W, M)\n",
        "print(\"Train error:\", mean_squared_error(Y_train, T_train))\n",
        "print(\"Test  error:\", mean_squared_error(Y_test, T_test))\n",
        "\n",
        "# Plot\n",
        "Y_real = predict(X_real, W, M)\n",
        "\n",
        "plt.figure(); plt.axis('equal'); plt.ylim(-3, 3)\n",
        "# plt.plot(X_real, T_real, sns.xkcd_rgb[\"green\"], label=\"Ideal function\")\n",
        "plt.plot(X_real, Y_real, sns.xkcd_rgb[\"red\"], label=\"Learned function\")\n",
        "plt.scatter(X_train, T_train, s=100, label=\"Train examples\")\n",
        "plt.xlabel(\"x\")\n",
        "plt.legend(bbox_to_anchor=(1, 1), loc='upper right', ncol=1)\n",
        "plt.show()"
      ],
      "execution_count": 0,
      "outputs": []
    },
    {
      "metadata": {
        "id": "AfMFlBhdAl_k",
        "colab_type": "text"
      },
      "cell_type": "markdown",
      "source": [
        "## 6. Model selection ##"
      ]
    },
    {
      "metadata": {
        "id": "6FJBQg_6Al_l",
        "colab_type": "code",
        "colab": {}
      },
      "cell_type": "code",
      "source": [
        "train_mse = []\n",
        "test_mse = []\n",
        "for M in range(10):\n",
        "    W = train_params(X_train, T_train, M)\n",
        "    Y_train = predict(X_train, W, M)\n",
        "    Y_test = predict(X_test, W, M)\n",
        "    train_mse.append(mean_squared_error(Y_train, T_train))\n",
        "    test_mse.append(mean_squared_error(Y_test, T_test))\n",
        "\n",
        "plt.figure()\n",
        "plt.plot(range(10), train_mse, sns.xkcd_rgb[\"green\"], label=\"Train MSE\")\n",
        "plt.plot(range(10), test_mse, sns.xkcd_rgb[\"red\"], label=\"Test MSE\")\n",
        "plt.xlabel(\"M (model size / complexity)\")\n",
        "plt.ylabel(\"MSE\")\n",
        "plt.legend(bbox_to_anchor=(0, 1), loc='upper left', ncol=1)\n",
        "plt.show()"
      ],
      "execution_count": 0,
      "outputs": []
    },
    {
      "metadata": {
        "id": "5wTZ5oUoAl_p",
        "colab_type": "code",
        "colab": {}
      },
      "cell_type": "code",
      "source": [
        ""
      ],
      "execution_count": 0,
      "outputs": []
    }
  ]
}