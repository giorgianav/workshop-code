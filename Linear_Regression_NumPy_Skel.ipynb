{
  "nbformat": 4,
  "nbformat_minor": 0,
  "metadata": {
    "colab": {
      "name": "Linear Regression - NumPy - Skel.ipynb",
      "version": "0.3.2",
      "provenance": [],
      "include_colab_link": true
    },
    "kernelspec": {
      "display_name": "Python 3",
      "language": "python",
      "name": "python3"
    }
  },
  "cells": [
    {
      "cell_type": "markdown",
      "metadata": {
        "id": "view-in-github",
        "colab_type": "text"
      },
      "source": [
        "[View in Colaboratory](https://colab.research.google.com/github/giorgianav/workshop-code/blob/master/Linear_Regression_NumPy_Skel.ipynb)"
      ]
    },
    {
      "metadata": {
        "id": "bBGUKMZzPo3h",
        "colab_type": "text"
      },
      "cell_type": "markdown",
      "source": [
        "# Linear Regression #\n",
        "\n",
        "Tudor Berariu (`tberariu@bitdefender.com`)"
      ]
    },
    {
      "metadata": {
        "id": "mnMYHr_dPo3k",
        "colab_type": "code",
        "colab": {}
      },
      "cell_type": "code",
      "source": [
        "import numpy as np  # For operations on tensors\n",
        "\n",
        "%matplotlib notebook\n",
        "import seaborn as sns\n",
        "sns.set()\n",
        "import matplotlib.pyplot as plt"
      ],
      "execution_count": 0,
      "outputs": []
    },
    {
      "metadata": {
        "id": "8KFJruEhPo3o",
        "colab_type": "text"
      },
      "cell_type": "markdown",
      "source": [
        "## 1. The problem to solve ##"
      ]
    },
    {
      "metadata": {
        "id": "RycX3g_wPo3p",
        "colab_type": "code",
        "colab": {}
      },
      "cell_type": "code",
      "source": [
        "def generate_examples(N:int = 9, noise:float = 0.2, dist_noise:float = 0.2):\n",
        "    X = np.linspace(0, 1.75 * np.pi, N)\n",
        "    X += np.random.randn(N) * dist_noise\n",
        "    T = np.sin(X) + np.random.randn(N) * noise\n",
        "    return X, T\n",
        "\n",
        "N_train = 9\n",
        "N_test = 50\n",
        "noise = 0.32\n",
        "\n",
        "X_train, T_train = generate_examples(N=N_train, noise=noise)\n",
        "X_test, T_test = generate_examples(N=N_test, noise=noise)\n",
        "X_real, T_real = generate_examples(100, .0, .0)\n",
        "\n",
        "plt.figure(); plt.axis('equal')\n",
        "plt.plot(X_real, T_real, sns.xkcd_rgb[\"green\"], label=\"Ideal function\")\n",
        "plt.scatter(X_train, T_train, s=30, label=\"Train examples\")\n",
        "#plt.scatter(X_test, T_test, s=10, label=\"Test examples\")\n",
        "plt.xlabel(\"x\")\n",
        "plt.legend(bbox_to_anchor=(1, 1), loc='upper right', ncol=1)\n",
        "plt.show()"
      ],
      "execution_count": 0,
      "outputs": []
    },
    {
      "metadata": {
        "id": "gYXj_EEKPo3t",
        "colab_type": "text"
      },
      "cell_type": "markdown",
      "source": [
        "## 2. Extracting polynomial features\n",
        "$$\\phi_i(x) = x^i, \\quad 0 \\le i \\le M$$"
      ]
    },
    {
      "metadata": {
        "id": "yWwd6X0UPo3t",
        "colab_type": "code",
        "colab": {}
      },
      "cell_type": "code",
      "source": [
        "def extract_features(X: np.ndarray, M: int) -> np.ndarray:\n",
        "    # TODO <1> : given X of length N and integer M, compute Phi, a N x (M+1) array\n",
        "    raise NotImplementedError"
      ],
      "execution_count": 0,
      "outputs": []
    },
    {
      "metadata": {
        "id": "mPdlEfrAPo3v",
        "colab_type": "code",
        "colab": {}
      },
      "cell_type": "code",
      "source": [
        "extract_features(X_train, 1)"
      ],
      "execution_count": 0,
      "outputs": []
    },
    {
      "metadata": {
        "id": "PXpePCIHPo3y",
        "colab_type": "text"
      },
      "cell_type": "markdown",
      "source": [
        "## 3. The cost function ##\n",
        "$$MSE = \\frac{1}{N}\\sum_{n=1}^{N} \\left(y_n - t_n\\right)^2$$"
      ]
    },
    {
      "metadata": {
        "id": "7DM8sXmoPo3z",
        "colab_type": "code",
        "colab": {}
      },
      "cell_type": "code",
      "source": [
        "def mean_squared_error(Y: np.ndarray, T: np.ndarray) -> float:\n",
        "    # TODO <2> : Given predictions Y and targets T, compute the MSE\n",
        "    raise NotImplementedError"
      ],
      "execution_count": 0,
      "outputs": []
    },
    {
      "metadata": {
        "id": "7L0SXUYjPo33",
        "colab_type": "text"
      },
      "cell_type": "markdown",
      "source": [
        "## 4. Closed form solution for linear models ##\n",
        "$$ y\\left(x, {\\bf w}\\right) = {\\bf \\phi}\\left(x\\right)^\\intercal {\\bf w}$$\n",
        "$${\\bf w}^* = \\left({\\bf \\Phi}^\\intercal {\\bf \\Phi}\\right)^{-1} {\\bf \\Phi}^\\intercal {\\bf T} = {\\bf \\Phi}^{\\dagger} {\\bf T}$$"
      ]
    },
    {
      "metadata": {
        "id": "dQ5RYyeJPo33",
        "colab_type": "code",
        "colab": {}
      },
      "cell_type": "code",
      "source": [
        "def train_params(X, T, M):\n",
        "    # TODO <3> : Given train examples (X, T), and integer M compute w*\n",
        "    raise NotImplementedError"
      ],
      "execution_count": 0,
      "outputs": []
    },
    {
      "metadata": {
        "id": "1oIYS0TFPo38",
        "colab_type": "code",
        "colab": {}
      },
      "cell_type": "code",
      "source": [
        "def predict(X, W, M):\n",
        "    # TODO <4> : Given inputs X, weights W, and integer M, compute predictions Y\n",
        "    raise NotImplementedError"
      ],
      "execution_count": 0,
      "outputs": []
    },
    {
      "metadata": {
        "id": "5qvgMUUoPo4C",
        "colab_type": "text"
      },
      "cell_type": "markdown",
      "source": [
        "## 5. Visualize the function learned by the model ##"
      ]
    },
    {
      "metadata": {
        "id": "vKOKeHlnPo4D",
        "colab_type": "code",
        "colab": {}
      },
      "cell_type": "code",
      "source": [
        "M = 3\n",
        "\n",
        "# Train\n",
        "W = train_params(X_train, T_train, M)\n",
        "\n",
        "# Compute mean squared error\n",
        "Y_train = predict(X_train, W, M)\n",
        "Y_test = predict(X_test, W, M)\n",
        "print(\"Train error:\", mean_squared_error(Y_train, T_train))\n",
        "print(\"Test  error:\", mean_squared_error(Y_test, T_test))\n",
        "\n",
        "# Plot\n",
        "Y_real = predict(X_real, W, M)\n",
        "\n",
        "plt.figure(); plt.axis('equal'); plt.ylim(-3, 3)\n",
        "# plt.plot(X_real, T_real, sns.xkcd_rgb[\"green\"], label=\"Ideal function\")\n",
        "plt.plot(X_real, Y_real, sns.xkcd_rgb[\"red\"], label=\"Learned function\")\n",
        "plt.scatter(X_train, T_train, s=100, label=\"Train examples\")\n",
        "plt.xlabel(\"x\")\n",
        "plt.legend(bbox_to_anchor=(1, 1), loc='upper right', ncol=1)\n",
        "plt.show()"
      ],
      "execution_count": 0,
      "outputs": []
    },
    {
      "metadata": {
        "id": "920YP98oPo4G",
        "colab_type": "text"
      },
      "cell_type": "markdown",
      "source": [
        "## 6. Model selection ##"
      ]
    },
    {
      "metadata": {
        "id": "38zRXr54Po4H",
        "colab_type": "code",
        "colab": {}
      },
      "cell_type": "code",
      "source": [
        "train_mse = []\n",
        "test_mse = []\n",
        "for M in range(10):\n",
        "    W = train_params(X_train, T_train, M)\n",
        "    Y_train = predict(X_train, W, M)\n",
        "    Y_test = predict(X_test, W, M)\n",
        "    train_mse.append(mean_squared_error(Y_train, T_train))\n",
        "    test_mse.append(mean_squared_error(Y_test, T_test))\n",
        "\n",
        "plt.figure()\n",
        "plt.plot(range(10), train_mse, sns.xkcd_rgb[\"green\"], label=\"Train MSE\")\n",
        "plt.plot(range(10), test_mse, sns.xkcd_rgb[\"red\"], label=\"Test MSE\")\n",
        "plt.xlabel(\"M (model size / complexity)\")\n",
        "plt.ylabel(\"MSE\")\n",
        "plt.legend(bbox_to_anchor=(0, 1), loc='upper left', ncol=1)\n",
        "plt.show()"
      ],
      "execution_count": 0,
      "outputs": []
    },
    {
      "metadata": {
        "id": "yTYTK31qPo4K",
        "colab_type": "code",
        "colab": {}
      },
      "cell_type": "code",
      "source": [
        ""
      ],
      "execution_count": 0,
      "outputs": []
    }
  ]
}