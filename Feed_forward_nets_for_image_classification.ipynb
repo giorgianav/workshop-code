{
  "nbformat": 4,
  "nbformat_minor": 0,
  "metadata": {
    "colab": {
      "name": "Feed-forward nets for image classification.ipynb",
      "version": "0.3.2",
      "provenance": [],
      "include_colab_link": true
    },
    "kernelspec": {
      "display_name": "Python 3",
      "language": "python",
      "name": "python3"
    }
  },
  "cells": [
    {
      "cell_type": "markdown",
      "metadata": {
        "id": "view-in-github",
        "colab_type": "text"
      },
      "source": [
        "[View in Colaboratory](https://colab.research.google.com/github/giorgianav/workshop-code/blob/master/Feed_forward_nets_for_image_classification.ipynb)"
      ]
    },
    {
      "metadata": {
        "id": "tmaHAc_KHG_5",
        "colab_type": "text"
      },
      "cell_type": "markdown",
      "source": [
        "# Feed-forward nets for image classification"
      ]
    },
    {
      "metadata": {
        "id": "zgNIWhzoHOIz",
        "colab_type": "text"
      },
      "cell_type": "markdown",
      "source": [
        "## 1. The MNIST dataset"
      ]
    },
    {
      "metadata": {
        "id": "nSxkLXegVDTg",
        "colab_type": "code",
        "colab": {
          "base_uri": "https://localhost:8080/",
          "height": 52
        },
        "outputId": "7b2bcd9d-279a-42b1-8bb4-6df101ce085b"
      },
      "cell_type": "code",
      "source": [
        "!pip install mnist"
      ],
      "execution_count": 1,
      "outputs": [
        {
          "output_type": "stream",
          "text": [
            "Requirement already satisfied: mnist in /usr/local/lib/python3.6/dist-packages (0.2.1)\r\n",
            "Requirement already satisfied: numpy in /usr/local/lib/python3.6/dist-packages (from mnist) (1.14.5)\r\n"
          ],
          "name": "stdout"
        }
      ]
    },
    {
      "metadata": {
        "id": "dQiqJyO7E7Ek",
        "colab_type": "code",
        "colab": {}
      },
      "cell_type": "code",
      "source": [
        "#\n",
        "\n",
        "import mnist\n",
        "train_imgs = mnist.train_images()\n",
        "train_labels = mnist.train_labels()\n",
        "test_imgs = mnist.test_images()\n",
        "test_labels  = mnist.test_labels()"
      ],
      "execution_count": 0,
      "outputs": []
    },
    {
      "metadata": {
        "id": "_N0SMBWGUWr2",
        "colab_type": "text"
      },
      "cell_type": "markdown",
      "source": [
        "### Data standardization\n",
        "\n",
        "Rescale input values to have zero mean and standard deviation of one."
      ]
    },
    {
      "metadata": {
        "id": "DnVAjT-0UWr2",
        "colab_type": "code",
        "colab": {}
      },
      "cell_type": "code",
      "source": [
        "mean, std  = train_imgs.mean(), train_imgs.std()\n",
        "train_imgs = (train_imgs - mean) / std\n",
        "test_imgs = (test_imgs - mean) / std"
      ],
      "execution_count": 0,
      "outputs": []
    },
    {
      "metadata": {
        "id": "wTYFRWmsUWr6",
        "colab_type": "text"
      },
      "cell_type": "markdown",
      "source": [
        "### See some inputs"
      ]
    },
    {
      "metadata": {
        "id": "qeftJ_CpE7Eu",
        "colab_type": "code",
        "colab": {}
      },
      "cell_type": "code",
      "source": [
        "from typing import List\n",
        "import numpy as np\n",
        "%matplotlib inline\n",
        "import matplotlib.pyplot as plt"
      ],
      "execution_count": 0,
      "outputs": []
    },
    {
      "metadata": {
        "id": "CB07PiQ2VdpD",
        "colab_type": "code",
        "colab": {
          "base_uri": "https://localhost:8080/",
          "height": 91
        },
        "outputId": "a98abb9b-0dcf-4620-d979-8dce001ae132"
      },
      "cell_type": "code",
      "source": [
        "idxs = np.random.randint(0, len(train_imgs), 15)\n",
        "imgs = np.concatenate(tuple(train_imgs[idx,:,:] for idx in idxs), axis=1)\n",
        "plt.imshow(imgs)\n",
        "print(\"Labels:\", train_labels[idxs])"
      ],
      "execution_count": 5,
      "outputs": [
        {
          "output_type": "stream",
          "text": [
            "Labels: [8 6 3 3 1 4 9 8 0 9 9 2 3 2 6]\n"
          ],
          "name": "stdout"
        },
        {
          "output_type": "display_data",
          "data": {
            "image/png": "[encoded data removed]",
            "text/plain": [
              "<matplotlib.figure.Figure at 0x7f4af426f438>"
            ]
          },
          "metadata": {
            "tags": []
          }
        }
      ]
    },
    {
      "metadata": {
        "id": "ZgERUA07IuSr",
        "colab_type": "text"
      },
      "cell_type": "markdown",
      "source": [
        "## 2. Building feed forward-networks"
      ]
    },
    {
      "metadata": {
        "id": "j6gHq9UWUWsC",
        "colab_type": "text"
      },
      "cell_type": "markdown",
      "source": [
        "### Layers\n",
        "\n",
        "Each layer will have three methods:\n",
        " - `forward` computes and returns ${\\bf y}^{(l)} = f_l\\left({\\bf x}^{(l)}, {\\bf w}^{(l)}\\right)$\n",
        " - `backward` gets $\\frac{\\partial {\\cal L}}{\\partial {\\bf y}^{(l)}}$, and stores $\\frac{\\partial {\\cal L}}{\\partial {\\bf w}^{(l)}}$ internally, and returns $\\frac{\\partial {\\cal L}}{\\partial {\\bf w}^{(l)}}$\n",
        " - `update` modifies parameters ${\\bf w}^{(l)}$ using stored $\\frac{\\partial{\\cal L}}{\\partial{\\bf w}}$"
      ]
    },
    {
      "metadata": {
        "id": "aWMM_flhUWsE",
        "colab_type": "code",
        "colab": {}
      },
      "cell_type": "code",
      "source": [
        "class Layer:\n",
        "\n",
        "    def forward(self, x: np.ndarray) -> np.ndarray:\n",
        "        raise NotImplementedError\n",
        "        \n",
        "    def backward(self, x: np.ndarray, dy: np.ndarray) -> np.ndarray:\n",
        "        raise NotImplementedError\n",
        "        \n",
        "    def update(self, *args, **kwargs):\n",
        "        pass  # If a layer has no parameters, then this function does nothing"
      ],
      "execution_count": 0,
      "outputs": []
    },
    {
      "metadata": {
        "id": "hs7FojYVUWsH",
        "colab_type": "text"
      },
      "cell_type": "markdown",
      "source": [
        "### The feed-forward netowork"
      ]
    },
    {
      "metadata": {
        "id": "SNIDMAXdUWsI",
        "colab_type": "code",
        "colab": {}
      },
      "cell_type": "code",
      "source": [
        "class FeedForwardNetwork:\n",
        "    \n",
        "    def __init__(self, layers: List[Layer]):\n",
        "        self.layers = layers\n",
        "        \n",
        "    def forward(self, x: np.ndarray, train: bool = True) -> np.ndarray:\n",
        "        self._inputs = []\n",
        "        for layer in self.layers:\n",
        "            if train:\n",
        "                self._inputs.append(x)\n",
        "            x = layer.forward(x)\n",
        "        return x\n",
        "    \n",
        "    def backward(self, dy:np.ndarray) -> np.ndarray:\n",
        "        # TODO <0> : Compute the backward phase\n",
        "        for layer, x in zip(self.layers[::-1], self._inputs[::-1]):\n",
        "            dy = layer.backward(x, dy)\n",
        "        del self._inputs\n",
        "    \n",
        "    def update(self, *args, **kwargs):\n",
        "        for layer in self.layers:\n",
        "            layer.update(*args, **kwargs)"
      ],
      "execution_count": 0,
      "outputs": []
    },
    {
      "metadata": {
        "id": "phxdPY4fUWsK",
        "colab_type": "text"
      },
      "cell_type": "markdown",
      "source": [
        "### The linear layer"
      ]
    },
    {
      "metadata": {
        "id": "S47ZsyKdE7FF",
        "colab_type": "code",
        "colab": {}
      },
      "cell_type": "code",
      "source": [
        "class Linear(Layer):\n",
        "    \n",
        "    def __init__(self, insize: int, outsize: int) -> None:\n",
        "        bound = np.sqrt(6. / insize)\n",
        "        self.weight = np.random.uniform(-bound, bound, (insize, outsize))\n",
        "        self.bias = np.zeros((outsize,))\n",
        "        \n",
        "        self.dweight = np.zeros_like(self.weight)\n",
        "        self.dbias = np.zeros_like(self.bias)\n",
        "\n",
        "        \n",
        "    def forward(self, x: np.ndarray) -> np.ndarray:\n",
        "        # TODO <1> : compute the output of a linear layer\n",
        "        return x @ self.weight + self.bias\n",
        "        \n",
        "    \n",
        "    def backward(self, x: np.ndarray, dy: np.ndarray) -> np.ndarray:\n",
        "        # TODO <2> : compute dweight, dbias and  return dx\n",
        "        self.dweight = x.T @ dy\n",
        "        self.dbias = dy.sum(axis=0)\n",
        "        return dy @ self.weight.T\n",
        "    \n",
        "    def update(self, mode='SGD', lr=0.001, mu=.9):\n",
        "        if mode == 'SGD':\n",
        "            self.weight -= lr * self.dweight\n",
        "            self.bias -= lr * self.dbias\n",
        "        elif mode == 'Nesterov':\n",
        "            # TODO <9> : compute the nesterov update\n",
        "            raise NotImplementedError\n",
        "        elif mode == 'Adam':\n",
        "            raise NotImplementedError"
      ],
      "execution_count": 0,
      "outputs": []
    },
    {
      "metadata": {
        "id": "EBfmy7wIUWsN",
        "colab_type": "text"
      },
      "cell_type": "markdown",
      "source": [
        "### The Rectified Linear Unit\n",
        "$$y = \\max\\left(x, 0\\right)$$"
      ]
    },
    {
      "metadata": {
        "id": "QOR1DJiwE7FJ",
        "colab_type": "code",
        "colab": {}
      },
      "cell_type": "code",
      "source": [
        "class ReLU(Layer):\n",
        "    \n",
        "    def __init__(self) -> None:\n",
        "        pass\n",
        "    \n",
        "    def forward(self, x: np.ndarray) -> np.ndarray:\n",
        "        # TODO <3> : Compute the output of a rectified linear unit\n",
        "        return x * ( x > 0)\n",
        "        # raise NotImplementedError\n",
        "    \n",
        "    def backward(self, x: np.ndarray, dy: np.ndarray) -> np.ndarray:\n",
        "        # TODO <4> : Compute the gradient w.r.t. x\n",
        "        return dy * ( x > 0)\n",
        "        # raise NotImplementedError"
      ],
      "execution_count": 0,
      "outputs": []
    },
    {
      "metadata": {
        "id": "4NrWBTmbI9gW",
        "colab_type": "text"
      },
      "cell_type": "markdown",
      "source": [
        "## 3. The loss function\n",
        "\n",
        "   The negative log likelihood combines a softmax activation, and a cross-entropy cost."
      ]
    },
    {
      "metadata": {
        "id": "YDXiDEu8E7FW",
        "colab_type": "code",
        "colab": {}
      },
      "cell_type": "code",
      "source": [
        "class NegativeLogLikelihood:\n",
        "    \n",
        "    def __init__(self):\n",
        "        pass\n",
        "\n",
        "    def forward(self, y: np.ndarray, t: np.ndarray) -> float:\n",
        "        # TODO <5> : Compute the negative log likelihood\n",
        "        return np.mean(y[np.arange(len(y)),t] - np.log(np.exp(y).sum(axis=1)))\n",
        "        #raise NotImplementedError\n",
        "    \n",
        "    def backward(self, y: np.ndarray, t: np.ndarray) -> np.ndarray:\n",
        "        # TODO <6> : Compute dl/dy\n",
        "        toh = np.zeros_like(y)\n",
        "        toh[np.arange(len(t)), t] = 1\n",
        "        return (y - toh) / y.shape[0]\n",
        "        #raise NotImplementedError"
      ],
      "execution_count": 0,
      "outputs": []
    },
    {
      "metadata": {
        "id": "Uz9qM5eHJLNw",
        "colab_type": "text"
      },
      "cell_type": "markdown",
      "source": [
        "### Accuracy"
      ]
    },
    {
      "metadata": {
        "id": "3nYfVCBSE7Fe",
        "colab_type": "code",
        "colab": {}
      },
      "cell_type": "code",
      "source": [
        "def accuracy(y: np.ndarray, t: np.ndarray) -> float:\n",
        "    # TODO <7> : Compute accuracy\n",
        "    return np.mean(t == y.argmax(axis=1)) * 100\n",
        "    # raise NotImplementedError"
      ],
      "execution_count": 0,
      "outputs": []
    },
    {
      "metadata": {
        "id": "mIhtzd2gJQF2",
        "colab_type": "text"
      },
      "cell_type": "markdown",
      "source": [
        "## 4. Training a neural network"
      ]
    },
    {
      "metadata": {
        "id": "HTbmZv3YE7Fs",
        "colab_type": "code",
        "colab": {
          "base_uri": "https://localhost:8080/",
          "height": 892
        },
        "outputId": "575a3242-22e2-4ed8-f04d-34872fc100c3"
      },
      "cell_type": "code",
      "source": [
        "BATCH_SIZE = 128\n",
        "HIDDEN_UNITS = 200\n",
        "EPOCHS_NO = 50\n",
        "\n",
        "optimize_args = {'mode': 'SGD', 'lr': .001}\n",
        "\n",
        "net = FeedForwardNetwork([Linear(784, HIDDEN_UNITS),\n",
        "                          ReLU(),\n",
        "                          Linear(HIDDEN_UNITS, 10)])\n",
        "\n",
        "nll = NegativeLogLikelihood()\n",
        "\n",
        "for epoch in range(EPOCHS_NO):\n",
        "    for b_no, idx in enumerate(range(0, len(train_imgs), BATCH_SIZE)):\n",
        "        # 1. Prepare next batch\n",
        "        x = train_imgs[idx:idx + BATCH_SIZE,:,:].reshape(-1, 784)\n",
        "        t = train_labels[idx:idx + BATCH_SIZE]\n",
        "        \n",
        "        # 2. Compute gradient\n",
        "        \n",
        "        # TODO <8> : Compute gradient\n",
        "        #raise NotImplementedError\n",
        "        y = net.forward(x)\n",
        "        loss = nll.forward(y, t)\n",
        "        dy = nll.backward(y, t)\n",
        "        net.backward(dy)\n",
        "        \n",
        "        # 3. Update network parameters\n",
        "        net.update(**optimize_args)\n",
        "        \n",
        "        print(f'\\rEpoch {epoch + 1:02d} '\n",
        "              f'| Batch {b_no:03d} '\n",
        "              f'| Train NLL: {loss:3.5f} '\n",
        "              f'| Train Accuracy: {accuracy(y, t):3.2f} ', end='')\n",
        "\n",
        "    y = net.forward(test_imgs.reshape(-1, 784), train=False)\n",
        "    test_nll = nll.forward(y, test_labels)\n",
        "    print(f' | Test NLL: {test_nll:3.5f} '\n",
        "          f' | Test Accuracy: {accuracy(y, test_labels):3.2f}')"
      ],
      "execution_count": 15,
      "outputs": [
        {
          "output_type": "stream",
          "text": [
            "Epoch 01 | Batch 468 | Train NLL: -2.01516 | Train Accuracy: 35.42  | Test NLL: -1.90825  | Test Accuracy: 47.95\n",
            "Epoch 02 | Batch 468 | Train NLL: -1.94187 | Train Accuracy: 45.83  | Test NLL: -1.85831  | Test Accuracy: 58.82\n",
            "Epoch 03 | Batch 468 | Train NLL: -1.90807 | Train Accuracy: 52.08  | Test NLL: -1.83698  | Test Accuracy: 65.42\n",
            "Epoch 04 | Batch 468 | Train NLL: -1.88622 | Train Accuracy: 60.42  | Test NLL: -1.82514  | Test Accuracy: 69.93\n",
            "Epoch 05 | Batch 468 | Train NLL: -1.87142 | Train Accuracy: 62.50  | Test NLL: -1.81736  | Test Accuracy: 73.35\n",
            "Epoch 06 | Batch 468 | Train NLL: -1.85905 | Train Accuracy: 65.62  | Test NLL: -1.81119  | Test Accuracy: 76.12\n",
            "Epoch 07 | Batch 468 | Train NLL: -1.84763 | Train Accuracy: 69.79  | Test NLL: -1.80568  | Test Accuracy: 77.85\n",
            "Epoch 08 | Batch 468 | Train NLL: -1.83804 | Train Accuracy: 73.96  | Test NLL: -1.80025  | Test Accuracy: 79.49\n",
            "Epoch 09 | Batch 468 | Train NLL: -1.82986 | Train Accuracy: 77.08  | Test NLL: -1.79485  | Test Accuracy: 81.02\n",
            "Epoch 10 | Batch 468 | Train NLL: -1.82293 | Train Accuracy: 78.12  | Test NLL: -1.78958  | Test Accuracy: 82.29\n",
            "Epoch 11 | Batch 468 | Train NLL: -1.81631 | Train Accuracy: 80.21  | Test NLL: -1.78430  | Test Accuracy: 83.00\n",
            "Epoch 12 | Batch 468 | Train NLL: -1.80996 | Train Accuracy: 81.25  | Test NLL: -1.77916  | Test Accuracy: 83.87\n",
            "Epoch 13 | Batch 468 | Train NLL: -1.80414 | Train Accuracy: 82.29  | Test NLL: -1.77417  | Test Accuracy: 84.65\n",
            "Epoch 14 | Batch 468 | Train NLL: -1.79858 | Train Accuracy: 82.29  | Test NLL: -1.76927  | Test Accuracy: 85.25\n",
            "Epoch 15 | Batch 468 | Train NLL: -1.79316 | Train Accuracy: 84.38  | Test NLL: -1.76455  | Test Accuracy: 85.87\n",
            "Epoch 16 | Batch 468 | Train NLL: -1.78794 | Train Accuracy: 85.42  | Test NLL: -1.76002  | Test Accuracy: 86.41\n",
            "Epoch 17 | Batch 468 | Train NLL: -1.78293 | Train Accuracy: 85.42  | Test NLL: -1.75566  | Test Accuracy: 86.81\n",
            "Epoch 18 | Batch 468 | Train NLL: -1.77827 | Train Accuracy: 85.42  | Test NLL: -1.75148  | Test Accuracy: 87.16\n",
            "Epoch 19 | Batch 468 | Train NLL: -1.77367 | Train Accuracy: 85.42  | Test NLL: -1.74747  | Test Accuracy: 87.48\n",
            "Epoch 20 | Batch 468 | Train NLL: -1.76933 | Train Accuracy: 85.42  | Test NLL: -1.74364  | Test Accuracy: 87.74\n",
            "Epoch 21 | Batch 468 | Train NLL: -1.76508 | Train Accuracy: 87.50  | Test NLL: -1.73992  | Test Accuracy: 88.11\n",
            "Epoch 22 | Batch 468 | Train NLL: -1.76105 | Train Accuracy: 87.50  | Test NLL: -1.73636  | Test Accuracy: 88.36\n",
            "Epoch 23 | Batch 468 | Train NLL: -1.75722 | Train Accuracy: 87.50  | Test NLL: -1.73293  | Test Accuracy: 88.67\n",
            "Epoch 24 | Batch 468 | Train NLL: -1.75357 | Train Accuracy: 87.50  | Test NLL: -1.72962  | Test Accuracy: 88.94\n",
            "Epoch 25 | Batch 468 | Train NLL: -1.74995 | Train Accuracy: 87.50  | Test NLL: -1.72639  | Test Accuracy: 89.09\n",
            "Epoch 26 | Batch 468 | Train NLL: -1.74649 | Train Accuracy: 89.58  | Test NLL: -1.72331  | Test Accuracy: 89.29\n",
            "Epoch 27 | Batch 468 | Train NLL: -1.74327 | Train Accuracy: 89.58  | Test NLL: -1.72039  | Test Accuracy: 89.45\n",
            "Epoch 28 | Batch 468 | Train NLL: -1.74013 | Train Accuracy: 89.58  | Test NLL: -1.71755  | Test Accuracy: 89.62\n",
            "Epoch 29 | Batch 468 | Train NLL: -1.73716 | Train Accuracy: 89.58  | Test NLL: -1.71478  | Test Accuracy: 89.77\n",
            "Epoch 30 | Batch 468 | Train NLL: -1.73436 | Train Accuracy: 89.58  | Test NLL: -1.71216  | Test Accuracy: 89.89\n",
            "Epoch 31 | Batch 468 | Train NLL: -1.73168 | Train Accuracy: 89.58  | Test NLL: -1.70968  | Test Accuracy: 90.04\n",
            "Epoch 32 | Batch 468 | Train NLL: -1.72908 | Train Accuracy: 89.58  | Test NLL: -1.70728  | Test Accuracy: 90.09\n",
            "Epoch 33 | Batch 468 | Train NLL: -1.72655 | Train Accuracy: 89.58  | Test NLL: -1.70495  | Test Accuracy: 90.17\n",
            "Epoch 34 | Batch 468 | Train NLL: -1.72412 | Train Accuracy: 89.58  | Test NLL: -1.70273  | Test Accuracy: 90.27\n",
            "Epoch 35 | Batch 468 | Train NLL: -1.72177 | Train Accuracy: 89.58  | Test NLL: -1.70054  | Test Accuracy: 90.40\n",
            "Epoch 36 | Batch 468 | Train NLL: -1.71944 | Train Accuracy: 89.58  | Test NLL: -1.69840  | Test Accuracy: 90.46\n",
            "Epoch 37 | Batch 468 | Train NLL: -1.71722 | Train Accuracy: 89.58  | Test NLL: -1.69643  | Test Accuracy: 90.57\n",
            "Epoch 38 | Batch 468 | Train NLL: -1.71507 | Train Accuracy: 89.58  | Test NLL: -1.69449  | Test Accuracy: 90.65\n",
            "Epoch 39 | Batch 468 | Train NLL: -1.71299 | Train Accuracy: 90.62  | Test NLL: -1.69264  | Test Accuracy: 90.73\n",
            "Epoch 40 | Batch 468 | Train NLL: -1.71088 | Train Accuracy: 90.62  | Test NLL: -1.69082  | Test Accuracy: 90.77\n",
            "Epoch 41 | Batch 468 | Train NLL: -1.70880 | Train Accuracy: 90.62  | Test NLL: -1.68908  | Test Accuracy: 90.83\n",
            "Epoch 42 | Batch 468 | Train NLL: -1.70676 | Train Accuracy: 90.62  | Test NLL: -1.68740  | Test Accuracy: 90.86\n",
            "Epoch 43 | Batch 468 | Train NLL: -1.70480 | Train Accuracy: 90.62  | Test NLL: -1.68575  | Test Accuracy: 90.90\n",
            "Epoch 44 | Batch 468 | Train NLL: -1.70289 | Train Accuracy: 90.62  | Test NLL: -1.68413  | Test Accuracy: 90.98\n",
            "Epoch 45 | Batch 468 | Train NLL: -1.70105 | Train Accuracy: 90.62  | Test NLL: -1.68255  | Test Accuracy: 91.07\n",
            "Epoch 46 | Batch 468 | Train NLL: -1.69924 | Train Accuracy: 90.62  | Test NLL: -1.68101  | Test Accuracy: 91.11\n",
            "Epoch 47 | Batch 468 | Train NLL: -1.69742 | Train Accuracy: 90.62  | Test NLL: -1.67950  | Test Accuracy: 91.15\n",
            "Epoch 48 | Batch 468 | Train NLL: -1.69564 | Train Accuracy: 90.62  | Test NLL: -1.67806  | Test Accuracy: 91.20\n",
            "Epoch 49 | Batch 468 | Train NLL: -1.69395 | Train Accuracy: 90.62  | Test NLL: -1.67669  | Test Accuracy: 91.27\n",
            "Epoch 50 | Batch 468 | Train NLL: -1.69231 | Train Accuracy: 90.62  | Test NLL: -1.67533  | Test Accuracy: 91.26\n"
          ],
          "name": "stdout"
        }
      ]
    },
    {
      "metadata": {
        "id": "EgMbww7XUWsb",
        "colab_type": "code",
        "colab": {}
      },
      "cell_type": "code",
      "source": [
        ""
      ],
      "execution_count": 0,
      "outputs": []
    }
  ]
}